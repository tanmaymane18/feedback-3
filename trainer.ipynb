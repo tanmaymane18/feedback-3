{
 "cells": [
  {
   "cell_type": "code",
   "execution_count": 3,
   "metadata": {},
   "outputs": [],
   "source": [
    "from trainer import *"
   ]
  },
  {
   "cell_type": "code",
   "execution_count": 4,
   "metadata": {},
   "outputs": [],
   "source": [
    "from ModelBuilder.model_builder import ModelBuilder\n",
    "from ModelBuilder.poolers import MeanPooling, MaxPooling, ClsPooler"
   ]
  },
  {
   "cell_type": "code",
   "execution_count": 9,
   "metadata": {},
   "outputs": [
    {
     "name": "stdout",
     "output_type": "stream",
     "text": [
      "\n",
      "\n",
      "\n",
      "##############################\n",
      "#\n",
      "#\tFold: 1\n",
      "#\n",
      "##############################\n",
      "\n",
      "\n",
      "\n"
     ]
    },
    {
     "ename": "KeyboardInterrupt",
     "evalue": "",
     "output_type": "error",
     "traceback": [
      "\u001b[1;31m---------------------------------------------------------------------------\u001b[0m",
      "\u001b[1;31mKeyboardInterrupt\u001b[0m                         Traceback (most recent call last)",
      "\u001b[1;32md:\\Tanmay\\Kaggle\\fb3\\scripts\\src\\trainer.ipynb Cell 3\u001b[0m in \u001b[0;36m<cell line: 9>\u001b[1;34m()\u001b[0m\n\u001b[0;32m      <a href='vscode-notebook-cell://ssh-remote%2B7b22686f73744e616d65223a2254616e6d617947656e6572616c4149227d/d%3A/Tanmay/Kaggle/fb3/scripts/src/trainer.ipynb#W2sdnNjb2RlLXJlbW90ZQ%3D%3D?line=2'>3</a>\u001b[0m exp_manager \u001b[39m=\u001b[39m ExpManager(\n\u001b[0;32m      <a href='vscode-notebook-cell://ssh-remote%2B7b22686f73744e616d65223a2254616e6d617947656e6572616c4149227d/d%3A/Tanmay/Kaggle/fb3/scripts/src/trainer.ipynb#W2sdnNjb2RlLXJlbW90ZQ%3D%3D?line=3'>4</a>\u001b[0m     data\u001b[39m=\u001b[39mdf,\n\u001b[0;32m      <a href='vscode-notebook-cell://ssh-remote%2B7b22686f73744e616d65223a2254616e6d617947656e6572616c4149227d/d%3A/Tanmay/Kaggle/fb3/scripts/src/trainer.ipynb#W2sdnNjb2RlLXJlbW90ZQ%3D%3D?line=4'>5</a>\u001b[0m     \u001b[39m*\u001b[39m\u001b[39m*\u001b[39mconfig\n\u001b[0;32m      <a href='vscode-notebook-cell://ssh-remote%2B7b22686f73744e616d65223a2254616e6d617947656e6572616c4149227d/d%3A/Tanmay/Kaggle/fb3/scripts/src/trainer.ipynb#W2sdnNjb2RlLXJlbW90ZQ%3D%3D?line=5'>6</a>\u001b[0m )\n\u001b[0;32m      <a href='vscode-notebook-cell://ssh-remote%2B7b22686f73744e616d65223a2254616e6d617947656e6572616c4149227d/d%3A/Tanmay/Kaggle/fb3/scripts/src/trainer.ipynb#W2sdnNjb2RlLXJlbW90ZQ%3D%3D?line=7'>8</a>\u001b[0m exp_manager\u001b[39m.\u001b[39mmodel_setup()\n\u001b[1;32m----> <a href='vscode-notebook-cell://ssh-remote%2B7b22686f73744e616d65223a2254616e6d617947656e6572616c4149227d/d%3A/Tanmay/Kaggle/fb3/scripts/src/trainer.ipynb#W2sdnNjb2RlLXJlbW90ZQ%3D%3D?line=8'>9</a>\u001b[0m exp_manager\u001b[39m.\u001b[39;49mfold_trainings()\n\u001b[0;32m     <a href='vscode-notebook-cell://ssh-remote%2B7b22686f73744e616d65223a2254616e6d617947656e6572616c4149227d/d%3A/Tanmay/Kaggle/fb3/scripts/src/trainer.ipynb#W2sdnNjb2RlLXJlbW90ZQ%3D%3D?line=9'>10</a>\u001b[0m exp_manager\u001b[39m.\u001b[39moof_pred_eval()\n",
      "File \u001b[1;32md:\\Tanmay\\Kaggle\\fb3\\scripts\\src\\Managers\\managers.py:45\u001b[0m, in \u001b[0;36mExpManager.fold_trainings\u001b[1;34m(self)\u001b[0m\n\u001b[0;32m     41\u001b[0m \u001b[39mprint\u001b[39m(\u001b[39m\"\u001b[39m\u001b[39m\\n\u001b[39;00m\u001b[39m\\n\u001b[39;00m\u001b[39m\"\u001b[39m)\n\u001b[0;32m     43\u001b[0m val_idx \u001b[39m=\u001b[39m \u001b[39mself\u001b[39m\u001b[39m.\u001b[39mdata[\u001b[39mself\u001b[39m\u001b[39m.\u001b[39mdata[\u001b[39m\"\u001b[39m\u001b[39mkfold\u001b[39m\u001b[39m\"\u001b[39m]\u001b[39m==\u001b[39mfold]\u001b[39m.\u001b[39mindex\u001b[39m.\u001b[39mto_list()\n\u001b[1;32m---> 45\u001b[0m model \u001b[39m=\u001b[39m \u001b[39mself\u001b[39;49m\u001b[39m.\u001b[39;49mmodel_builder\u001b[39m.\u001b[39;49mget_model()\n\u001b[0;32m     47\u001b[0m dblock \u001b[39m=\u001b[39m DataBlock(\n\u001b[0;32m     48\u001b[0m                     blocks \u001b[39m=\u001b[39m [TransformersTextBlock(pretrained_model_name\u001b[39m=\u001b[39m\u001b[39mself\u001b[39m\u001b[39m.\u001b[39mmodel_name, \n\u001b[0;32m     49\u001b[0m                                                     max_length\u001b[39m=\u001b[39m\u001b[39mself\u001b[39m\u001b[39m.\u001b[39mmax_len,\n\u001b[1;32m   (...)\u001b[0m\n\u001b[0;32m     56\u001b[0m                     splitter\u001b[39m=\u001b[39mIndexSplitter(val_idx)\n\u001b[0;32m     57\u001b[0m                 )\n\u001b[0;32m     59\u001b[0m dls \u001b[39m=\u001b[39m dblock\u001b[39m.\u001b[39mdataloaders(\n\u001b[0;32m     60\u001b[0m                             \u001b[39mself\u001b[39m\u001b[39m.\u001b[39mdata, \n\u001b[0;32m     61\u001b[0m                             bs \u001b[39m=\u001b[39m \u001b[39mself\u001b[39m\u001b[39m.\u001b[39mkwargs[\u001b[39m\"\u001b[39m\u001b[39mbs\u001b[39m\u001b[39m\"\u001b[39m],\n\u001b[0;32m     62\u001b[0m                             val_bs \u001b[39m=\u001b[39m \u001b[39mself\u001b[39m\u001b[39m.\u001b[39mkwargs[\u001b[39m\"\u001b[39m\u001b[39mval_bs\u001b[39m\u001b[39m\"\u001b[39m]\n\u001b[0;32m     63\u001b[0m                         )\n",
      "File \u001b[1;32md:\\Tanmay\\Kaggle\\fb3\\scripts\\src\\ModelBuilder\\model_builder.py:88\u001b[0m, in \u001b[0;36mModelBuilder.get_model\u001b[1;34m(self)\u001b[0m\n\u001b[0;32m     87\u001b[0m \u001b[39mdef\u001b[39;00m \u001b[39mget_model\u001b[39m(\u001b[39mself\u001b[39m):\n\u001b[1;32m---> 88\u001b[0m     \u001b[39mself\u001b[39m\u001b[39m.\u001b[39mmodel\u001b[39m.\u001b[39mbody \u001b[39m=\u001b[39m \u001b[39mself\u001b[39;49m\u001b[39m.\u001b[39;49mbuild_body()\n\u001b[0;32m     89\u001b[0m     \u001b[39mself\u001b[39m\u001b[39m.\u001b[39mmodel\u001b[39m.\u001b[39mpooler \u001b[39m=\u001b[39m \u001b[39mself\u001b[39m\u001b[39m.\u001b[39mbuild_pooler()\n\u001b[0;32m     90\u001b[0m     \u001b[39mself\u001b[39m\u001b[39m.\u001b[39mmodel\u001b[39m.\u001b[39mhead \u001b[39m=\u001b[39m \u001b[39mself\u001b[39m\u001b[39m.\u001b[39mbuild_head()\n",
      "File \u001b[1;32md:\\Tanmay\\Kaggle\\fb3\\scripts\\src\\ModelBuilder\\model_builder.py:74\u001b[0m, in \u001b[0;36mModelBuilder.build_body\u001b[1;34m(self)\u001b[0m\n\u001b[0;32m     65\u001b[0m config \u001b[39m=\u001b[39m AutoConfig\u001b[39m.\u001b[39mfrom_pretrained(\u001b[39mself\u001b[39m\u001b[39m.\u001b[39mmodel_name)\n\u001b[0;32m     66\u001b[0m config\u001b[39m.\u001b[39mupdate(\n\u001b[0;32m     67\u001b[0m     {\n\u001b[0;32m     68\u001b[0m         \u001b[39m\"\u001b[39m\u001b[39moutput_hidden_states\u001b[39m\u001b[39m\"\u001b[39m: \u001b[39mTrue\u001b[39;00m,\n\u001b[1;32m   (...)\u001b[0m\n\u001b[0;32m     72\u001b[0m     }\n\u001b[0;32m     73\u001b[0m )\n\u001b[1;32m---> 74\u001b[0m base_model \u001b[39m=\u001b[39m AutoModel\u001b[39m.\u001b[39;49mfrom_pretrained(\u001b[39mself\u001b[39;49m\u001b[39m.\u001b[39;49mmodel_name, config\u001b[39m=\u001b[39;49mconfig)\n\u001b[0;32m     75\u001b[0m base_model\u001b[39m.\u001b[39mgradient_checkpointing_enable()\n\u001b[0;32m     77\u001b[0m \u001b[39mreturn\u001b[39;00m base_model\n",
      "File \u001b[1;32mc:\\Users\\TMane\\Miniconda3\\envs\\kdays\\lib\\site-packages\\transformers\\models\\auto\\auto_factory.py:446\u001b[0m, in \u001b[0;36m_BaseAutoModelClass.from_pretrained\u001b[1;34m(cls, pretrained_model_name_or_path, *model_args, **kwargs)\u001b[0m\n\u001b[0;32m    444\u001b[0m \u001b[39melif\u001b[39;00m \u001b[39mtype\u001b[39m(config) \u001b[39min\u001b[39;00m \u001b[39mcls\u001b[39m\u001b[39m.\u001b[39m_model_mapping\u001b[39m.\u001b[39mkeys():\n\u001b[0;32m    445\u001b[0m     model_class \u001b[39m=\u001b[39m _get_model_class(config, \u001b[39mcls\u001b[39m\u001b[39m.\u001b[39m_model_mapping)\n\u001b[1;32m--> 446\u001b[0m     \u001b[39mreturn\u001b[39;00m model_class\u001b[39m.\u001b[39;49mfrom_pretrained(pretrained_model_name_or_path, \u001b[39m*\u001b[39;49mmodel_args, config\u001b[39m=\u001b[39;49mconfig, \u001b[39m*\u001b[39;49m\u001b[39m*\u001b[39;49mkwargs)\n\u001b[0;32m    447\u001b[0m \u001b[39mraise\u001b[39;00m \u001b[39mValueError\u001b[39;00m(\n\u001b[0;32m    448\u001b[0m     \u001b[39mf\u001b[39m\u001b[39m\"\u001b[39m\u001b[39mUnrecognized configuration class \u001b[39m\u001b[39m{\u001b[39;00mconfig\u001b[39m.\u001b[39m\u001b[39m__class__\u001b[39m\u001b[39m}\u001b[39;00m\u001b[39m for this kind of AutoModel: \u001b[39m\u001b[39m{\u001b[39;00m\u001b[39mcls\u001b[39m\u001b[39m.\u001b[39m\u001b[39m__name__\u001b[39m\u001b[39m}\u001b[39;00m\u001b[39m.\u001b[39m\u001b[39m\\n\u001b[39;00m\u001b[39m\"\u001b[39m\n\u001b[0;32m    449\u001b[0m     \u001b[39mf\u001b[39m\u001b[39m\"\u001b[39m\u001b[39mModel type should be one of \u001b[39m\u001b[39m{\u001b[39;00m\u001b[39m'\u001b[39m\u001b[39m, \u001b[39m\u001b[39m'\u001b[39m\u001b[39m.\u001b[39mjoin(c\u001b[39m.\u001b[39m\u001b[39m__name__\u001b[39m \u001b[39mfor\u001b[39;00m c \u001b[39min\u001b[39;00m \u001b[39mcls\u001b[39m\u001b[39m.\u001b[39m_model_mapping\u001b[39m.\u001b[39mkeys())\u001b[39m}\u001b[39;00m\u001b[39m.\u001b[39m\u001b[39m\"\u001b[39m\n\u001b[0;32m    450\u001b[0m )\n",
      "File \u001b[1;32mc:\\Users\\TMane\\Miniconda3\\envs\\kdays\\lib\\site-packages\\transformers\\modeling_utils.py:2060\u001b[0m, in \u001b[0;36mPreTrainedModel.from_pretrained\u001b[1;34m(cls, pretrained_model_name_or_path, *model_args, **kwargs)\u001b[0m\n\u001b[0;32m   2057\u001b[0m \u001b[39mif\u001b[39;00m from_pt:\n\u001b[0;32m   2058\u001b[0m     \u001b[39mif\u001b[39;00m \u001b[39mnot\u001b[39;00m is_sharded \u001b[39mand\u001b[39;00m state_dict \u001b[39mis\u001b[39;00m \u001b[39mNone\u001b[39;00m:\n\u001b[0;32m   2059\u001b[0m         \u001b[39m# Time to load the checkpoint\u001b[39;00m\n\u001b[1;32m-> 2060\u001b[0m         state_dict \u001b[39m=\u001b[39m load_state_dict(resolved_archive_file)\n\u001b[0;32m   2062\u001b[0m     \u001b[39m# set dtype to instantiate the model under:\u001b[39;00m\n\u001b[0;32m   2063\u001b[0m     \u001b[39m# 1. If torch_dtype is not None, we use that dtype\u001b[39;00m\n\u001b[0;32m   2064\u001b[0m     \u001b[39m# 2. If torch_dtype is \"auto\", we auto-detect dtype from the loaded state_dict, by checking its first\u001b[39;00m\n\u001b[0;32m   2065\u001b[0m     \u001b[39m#    weights entry that is of a floating type - we assume all floating dtype weights are of the same dtype\u001b[39;00m\n\u001b[0;32m   2066\u001b[0m     \u001b[39m# we also may have config.torch_dtype available, but we won't rely on it till v5\u001b[39;00m\n\u001b[0;32m   2067\u001b[0m     dtype_orig \u001b[39m=\u001b[39m \u001b[39mNone\u001b[39;00m\n",
      "File \u001b[1;32mc:\\Users\\TMane\\Miniconda3\\envs\\kdays\\lib\\site-packages\\transformers\\modeling_utils.py:367\u001b[0m, in \u001b[0;36mload_state_dict\u001b[1;34m(checkpoint_file)\u001b[0m\n\u001b[0;32m    363\u001b[0m \u001b[39m\"\"\"\u001b[39;00m\n\u001b[0;32m    364\u001b[0m \u001b[39mReads a PyTorch checkpoint file, returning properly formatted errors if they arise.\u001b[39;00m\n\u001b[0;32m    365\u001b[0m \u001b[39m\"\"\"\u001b[39;00m\n\u001b[0;32m    366\u001b[0m \u001b[39mtry\u001b[39;00m:\n\u001b[1;32m--> 367\u001b[0m     \u001b[39mreturn\u001b[39;00m torch\u001b[39m.\u001b[39;49mload(checkpoint_file, map_location\u001b[39m=\u001b[39;49m\u001b[39m\"\u001b[39;49m\u001b[39mcpu\u001b[39;49m\u001b[39m\"\u001b[39;49m)\n\u001b[0;32m    368\u001b[0m \u001b[39mexcept\u001b[39;00m \u001b[39mException\u001b[39;00m \u001b[39mas\u001b[39;00m e:\n\u001b[0;32m    369\u001b[0m     \u001b[39mtry\u001b[39;00m:\n",
      "File \u001b[1;32mc:\\Users\\TMane\\Miniconda3\\envs\\kdays\\lib\\site-packages\\torch\\serialization.py:712\u001b[0m, in \u001b[0;36mload\u001b[1;34m(f, map_location, pickle_module, **pickle_load_args)\u001b[0m\n\u001b[0;32m    710\u001b[0m             opened_file\u001b[39m.\u001b[39mseek(orig_position)\n\u001b[0;32m    711\u001b[0m             \u001b[39mreturn\u001b[39;00m torch\u001b[39m.\u001b[39mjit\u001b[39m.\u001b[39mload(opened_file)\n\u001b[1;32m--> 712\u001b[0m         \u001b[39mreturn\u001b[39;00m _load(opened_zipfile, map_location, pickle_module, \u001b[39m*\u001b[39;49m\u001b[39m*\u001b[39;49mpickle_load_args)\n\u001b[0;32m    713\u001b[0m \u001b[39mreturn\u001b[39;00m _legacy_load(opened_file, map_location, pickle_module, \u001b[39m*\u001b[39m\u001b[39m*\u001b[39mpickle_load_args)\n",
      "File \u001b[1;32mc:\\Users\\TMane\\Miniconda3\\envs\\kdays\\lib\\site-packages\\torch\\serialization.py:1049\u001b[0m, in \u001b[0;36m_load\u001b[1;34m(zip_file, map_location, pickle_module, pickle_file, **pickle_load_args)\u001b[0m\n\u001b[0;32m   1047\u001b[0m unpickler \u001b[39m=\u001b[39m UnpicklerWrapper(data_file, \u001b[39m*\u001b[39m\u001b[39m*\u001b[39mpickle_load_args)\n\u001b[0;32m   1048\u001b[0m unpickler\u001b[39m.\u001b[39mpersistent_load \u001b[39m=\u001b[39m persistent_load\n\u001b[1;32m-> 1049\u001b[0m result \u001b[39m=\u001b[39m unpickler\u001b[39m.\u001b[39;49mload()\n\u001b[0;32m   1051\u001b[0m torch\u001b[39m.\u001b[39m_utils\u001b[39m.\u001b[39m_validate_loaded_sparse_tensors()\n\u001b[0;32m   1053\u001b[0m \u001b[39mreturn\u001b[39;00m result\n",
      "File \u001b[1;32mc:\\Users\\TMane\\Miniconda3\\envs\\kdays\\lib\\site-packages\\torch\\serialization.py:1019\u001b[0m, in \u001b[0;36m_load.<locals>.persistent_load\u001b[1;34m(saved_id)\u001b[0m\n\u001b[0;32m   1017\u001b[0m \u001b[39mif\u001b[39;00m key \u001b[39mnot\u001b[39;00m \u001b[39min\u001b[39;00m loaded_storages:\n\u001b[0;32m   1018\u001b[0m     nbytes \u001b[39m=\u001b[39m numel \u001b[39m*\u001b[39m torch\u001b[39m.\u001b[39m_utils\u001b[39m.\u001b[39m_element_size(dtype)\n\u001b[1;32m-> 1019\u001b[0m     load_tensor(dtype, nbytes, key, _maybe_decode_ascii(location))\n\u001b[0;32m   1021\u001b[0m \u001b[39mreturn\u001b[39;00m loaded_storages[key]\n",
      "File \u001b[1;32mc:\\Users\\TMane\\Miniconda3\\envs\\kdays\\lib\\site-packages\\torch\\serialization.py:997\u001b[0m, in \u001b[0;36m_load.<locals>.load_tensor\u001b[1;34m(dtype, numel, key, location)\u001b[0m\n\u001b[0;32m    994\u001b[0m \u001b[39mdef\u001b[39;00m \u001b[39mload_tensor\u001b[39m(dtype, numel, key, location):\n\u001b[0;32m    995\u001b[0m     name \u001b[39m=\u001b[39m \u001b[39mf\u001b[39m\u001b[39m'\u001b[39m\u001b[39mdata/\u001b[39m\u001b[39m{\u001b[39;00mkey\u001b[39m}\u001b[39;00m\u001b[39m'\u001b[39m\n\u001b[1;32m--> 997\u001b[0m     storage \u001b[39m=\u001b[39m zip_file\u001b[39m.\u001b[39;49mget_storage_from_record(name, numel, torch\u001b[39m.\u001b[39;49m_UntypedStorage)\u001b[39m.\u001b[39mstorage()\u001b[39m.\u001b[39m_untyped()\n\u001b[0;32m    998\u001b[0m     \u001b[39m# TODO: Once we decide to break serialization FC, we can\u001b[39;00m\n\u001b[0;32m    999\u001b[0m     \u001b[39m# stop wrapping with _TypedStorage\u001b[39;00m\n\u001b[0;32m   1000\u001b[0m     loaded_storages[key] \u001b[39m=\u001b[39m torch\u001b[39m.\u001b[39mstorage\u001b[39m.\u001b[39m_TypedStorage(\n\u001b[0;32m   1001\u001b[0m         wrap_storage\u001b[39m=\u001b[39mrestore_location(storage, location),\n\u001b[0;32m   1002\u001b[0m         dtype\u001b[39m=\u001b[39mdtype)\n",
      "\u001b[1;31mKeyboardInterrupt\u001b[0m: "
     ]
    }
   ],
   "source": [
    "df = pd.read_csv(\"..\\\\..\\\\data\\\\train_folds.csv\")\n",
    "\n",
    "exp_manager = ExpManager(\n",
    "    data=df,\n",
    "    **config\n",
    ")\n",
    "\n",
    "exp_manager.model_setup()\n",
    "exp_manager.fold_trainings()\n",
    "exp_manager.oof_pred_eval()"
   ]
  },
  {
   "cell_type": "code",
   "execution_count": 10,
   "metadata": {},
   "outputs": [],
   "source": [
    "dims = [768*3, 768*2, 768, 512]\n",
    "ps = [0.2, 0.3, 0.4]\n",
    "acts = [nn.ReLU(inplace=True)] * (len(dims) - 2) + [None]"
   ]
  },
  {
   "cell_type": "code",
   "execution_count": 11,
   "metadata": {},
   "outputs": [
    {
     "data": {
      "text/plain": [
       "[LinBnDrop(\n",
       "   (0): BatchNorm1d(2304, eps=1e-05, momentum=0.1, affine=True, track_running_stats=True)\n",
       "   (1): Dropout(p=0.2, inplace=False)\n",
       "   (2): Linear(in_features=2304, out_features=1536, bias=False)\n",
       "   (3): ReLU(inplace=True)\n",
       " ),\n",
       " LinBnDrop(\n",
       "   (0): BatchNorm1d(1536, eps=1e-05, momentum=0.1, affine=True, track_running_stats=True)\n",
       "   (1): Dropout(p=0.3, inplace=False)\n",
       "   (2): Linear(in_features=1536, out_features=768, bias=False)\n",
       "   (3): ReLU(inplace=True)\n",
       " ),\n",
       " LinBnDrop(\n",
       "   (0): BatchNorm1d(768, eps=1e-05, momentum=0.1, affine=True, track_running_stats=True)\n",
       "   (1): Dropout(p=0.4, inplace=False)\n",
       "   (2): Linear(in_features=768, out_features=512, bias=False)\n",
       " ),\n",
       " LinBnDrop(\n",
       "   (0): Linear(in_features=512, out_features=6, bias=True)\n",
       " )]"
      ]
     },
     "execution_count": 11,
     "metadata": {},
     "output_type": "execute_result"
    }
   ],
   "source": [
    "[LinBnDrop(i, o, p=p, act=a) for i,o,p,a in zip(dims[:-1], dims[1:], ps, acts)] + [LinBnDrop(dims[-1], 6, bn=False)]"
   ]
  },
  {
   "cell_type": "code",
   "execution_count": 12,
   "metadata": {},
   "outputs": [],
   "source": [
    "model_builder = ModelBuilder(\n",
    "            model_name=\"microsoft/deberta-v3-base\", \n",
    "            dims=dims, \n",
    "            ps=ps, \n",
    "            poolers=[\n",
    "                partial(ClsPooler, hidden_size=hidden_size, \n",
    "                        last_n_cls=4, drop_p=0),\n",
    "        MeanPooling,\n",
    "        MaxPooling\n",
    "            ], \n",
    "            num_labels=6, \n",
    "            hidden_dropout_prob=0\n",
    "        )"
   ]
  },
  {
   "cell_type": "code",
   "execution_count": 13,
   "metadata": {},
   "outputs": [],
   "source": [
    "model = model_builder.get_model()"
   ]
  },
  {
   "cell_type": "code",
   "execution_count": 24,
   "metadata": {},
   "outputs": [],
   "source": [
    "def params(m):\n",
    "    return [p for p in m.parameters()]\n",
    "\n",
    "def transSplitter(model):\n",
    "    groups = L(model.body.base_model.embeddings.children())\n",
    "    for layer in list(model.body.base_model.encoder.layer.children()):\n",
    "        groups = groups + L(layer)\n",
    "    groups = groups + L(m for m in list(model.pooler.children()) if params(m)) + L(m for m in list(model.head.children()) if params(m))\n",
    "    return groups\n",
    "    # return groups.map(params)"
   ]
  },
  {
   "cell_type": "code",
   "execution_count": 31,
   "metadata": {},
   "outputs": [],
   "source": [
    "# groups = transSplitter(model)"
   ]
  },
  {
   "cell_type": "code",
   "execution_count": 32,
   "metadata": {},
   "outputs": [],
   "source": [
    "# groups[14:]"
   ]
  },
  {
   "cell_type": "code",
   "execution_count": 33,
   "metadata": {},
   "outputs": [],
   "source": [
    "from transformers import AutoTokenizer"
   ]
  },
  {
   "cell_type": "code",
   "execution_count": 35,
   "metadata": {},
   "outputs": [],
   "source": [
    "tokenizer = AutoTokenizer.from_pretrained(\"microsoft/deberta-v3-base\")"
   ]
  },
  {
   "cell_type": "code",
   "execution_count": 40,
   "metadata": {},
   "outputs": [],
   "source": [
    "test_toks = tokenizer([\n",
    "    \"this is first text\",\n",
    "    \"this is second text\"\n",
    "], padding=True, max_length=1429, return_tensors=\"pt\")"
   ]
  },
  {
   "cell_type": "code",
   "execution_count": 41,
   "metadata": {},
   "outputs": [],
   "source": [
    "del test_toks[\"token_type_ids\"]"
   ]
  },
  {
   "cell_type": "code",
   "execution_count": 42,
   "metadata": {},
   "outputs": [
    {
     "data": {
      "text/plain": [
       "SequenceClassifierOutput(loss=None, logits=tensor([[-0.4600,  0.1987, -0.4446, -0.5276,  0.0577,  0.0620],\n",
       "        [ 0.1452,  0.1864,  0.2049,  0.1477, -0.3563,  0.0639]],\n",
       "       grad_fn=<AddmmBackward0>), hidden_states=None, attentions=None)"
      ]
     },
     "execution_count": 42,
     "metadata": {},
     "output_type": "execute_result"
    }
   ],
   "source": [
    "model(**test_toks)"
   ]
  },
  {
   "cell_type": "code",
   "execution_count": 8,
   "metadata": {},
   "outputs": [
    {
     "data": {
      "text/plain": [
       "[(2304, 1536, 0.2, ReLU(inplace=True)), (1536, 768, 0.3, None)]"
      ]
     },
     "execution_count": 8,
     "metadata": {},
     "output_type": "execute_result"
    }
   ],
   "source": [
    "list(zip(dims[:-1], dims[1:], ps, acts))"
   ]
  }
 ],
 "metadata": {
  "kernelspec": {
   "display_name": "Python 3.8.13",
   "language": "python",
   "name": "python3"
  },
  "language_info": {
   "codemirror_mode": {
    "name": "ipython",
    "version": 3
   },
   "file_extension": ".py",
   "mimetype": "text/x-python",
   "name": "python",
   "nbconvert_exporter": "python",
   "pygments_lexer": "ipython3",
   "version": "3.8.13"
  },
  "orig_nbformat": 4,
  "vscode": {
   "interpreter": {
    "hash": "3f89ad2f87447264e7679d812265cfb291954d7843a1ecfe1504fd0390972776"
   }
  }
 },
 "nbformat": 4,
 "nbformat_minor": 2
}
